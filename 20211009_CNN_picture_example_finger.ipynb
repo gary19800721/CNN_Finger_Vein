{
 "cells": [
  {
   "cell_type": "code",
   "execution_count": 12,
   "id": "85a951be",
   "metadata": {},
   "outputs": [],
   "source": [
    "import matplotlib.pyplot as plt\n",
    "from torchvision import datasets, transforms\n",
    "import PIL.Image as Image\n",
    "import torch.nn as nn\n",
    "import torch.nn.functional as F\n",
    "import torch\n",
    "from torch import optim\n",
    "import numpy as np\n",
    "import json\n",
    "import os\n",
    "\n",
    "# 步驟0. 是否使用CUDA \n",
    "use_cuda = 1\n",
    "device = torch.device(\"cuda\" if (torch.cuda.is_available() & use_cuda) else \"cpu\")"
   ]
  },
  {
   "cell_type": "code",
   "execution_count": 13,
   "id": "0a29c186",
   "metadata": {},
   "outputs": [
    {
     "name": "stdout",
     "output_type": "stream",
     "text": [
      "./dataset/Example_finger/Train\\Andrew\\F0101.bmp\n",
      "[0, 0, 0, 0, 0, 0, 0, 0, 0, 0, 0, 0, 0, 0, 0, 1, 1, 1, 1, 1, 1, 1, 1, 1, 1, 1, 1, 1, 1, 1, 2, 2, 2, 2, 2, 2, 2, 2, 2, 2, 2, 2, 2, 2, 2]\n",
      "45\n",
      "45\n",
      "number of total data:45\n",
      "torch.Size([30, 3, 28, 28])\n",
      "torch.Size([30])\n"
     ]
    }
   ],
   "source": [
    "# 步驟1. data loader處理 \n",
    "imagepaths, labels=[],[]\n",
    "for dirpath, dirlist, filenames in os.walk('./dataset/Example_finger/Train'):   \n",
    "    #print(dirpath) #正在遍历的这个文件夹的本身的地址 \n",
    "    #print(dirlist) #是一个 list ，内容是该文件夹中所有的目录的名字(不包括子目录)  \n",
    "    #print(filenames) #是 list , 内容是该文件夹中所有的文件(不包括子目录) \n",
    "    \n",
    "    fruitname = dirpath.split(\"\\\\\")[-1]\n",
    "    \n",
    "    #print('fruitname:',fruitname)\n",
    "    \n",
    "    if fruitname=='Andrew':\n",
    "        label = 0\n",
    "    elif fruitname=='Gary':\n",
    "        label = 1\n",
    "    elif fruitname=='Sherry':\n",
    "        label = 2\n",
    "    for filename in filenames:\n",
    "        imagepaths.append(os.path.join(dirpath, filename))\n",
    "        labels.append(label)\n",
    "    \n",
    "print(imagepaths[0])\n",
    "print(labels)\n",
    "print(len(imagepaths))\n",
    "print(len(labels))\n",
    "\n",
    "data={}\n",
    "data['imagepaths']=imagepaths\n",
    "data['labels'] = labels\n",
    "\n",
    "with open('./dataset/database/data_finger.json', 'w', newline='') as jsonfile:\n",
    "    json.dump(data, jsonfile)\n",
    "\n",
    "def my_collate(batch):\n",
    "    data, target = list(), list()\n",
    "    for b in batch:\n",
    "        data.append(b[0])\n",
    "        target.append(b[1])\n",
    "    data = torch.stack(data,dim=0)\n",
    "    target = torch.stack(target,dim=0)\n",
    "    return data, target\n",
    "\n",
    "class MyDataset_Fruits(torch.utils.data.Dataset):\n",
    "    '''\n",
    "    load the dataset\n",
    "    '''\n",
    "    def __init__(self,transforms):\n",
    "        with open('./dataset/database/data_finger.json') as jsonfile:\n",
    "            data_load = json.load(jsonfile)\n",
    "            \n",
    "        self.imList = data_load['imagepaths']\n",
    "        self.labelList = data_load['labels']\n",
    "        self.transforms=transforms\n",
    "        print('number of total data:{}'.format(len(self.imList)))\n",
    "    def __len__(self):\n",
    "        return len(self.imList)\n",
    "\n",
    "    def __getitem__(self, idx):\n",
    "        '''\n",
    "        :param idx: Index of the image file\n",
    "        :return: returns the image and corresponding label file.\n",
    "        '''\n",
    "        image_name = self.imList[idx]\n",
    "        label = self.labelList[idx]\n",
    "        \n",
    "        # read image with PIL module\n",
    "        image = Image.open(image_name, mode='r')\n",
    "        image = image.convert('RGB')\n",
    "    \n",
    "        \n",
    "        # Convert PIL label image to torch.Tensor\n",
    "        image = self.transforms(image)\n",
    "        label = torch.tensor(label)\n",
    "        return image, label    \n",
    "    \n",
    "mytransform = transforms.Compose([\n",
    "            transforms.Resize((28,28)),\n",
    "            transforms.ToTensor()\n",
    "            ])\n",
    "\n",
    "dataset_train = MyDataset_Fruits(transforms=mytransform)\n",
    "\n",
    "# dataloader_train = torch.utils.data.DataLoader(dataset_train, batch_size=13, num_workers=0, shuffle=False, collate_fn = my_collate)\n",
    "dataloader_train = torch.utils.data.DataLoader(dataset_train, batch_size=30, num_workers=0, shuffle=True, collate_fn = my_collate, drop_last=False)\n",
    "\n",
    "for data in dataloader_train:\n",
    "        print(data[0].size())\n",
    "        print(data[1].size())\n",
    "        break"
   ]
  },
  {
   "cell_type": "code",
   "execution_count": 14,
   "id": "d0aee764",
   "metadata": {},
   "outputs": [],
   "source": [
    "# 步驟2. 模型宣告\n",
    "class ConvM(nn.Sequential):\n",
    "    def __init__(self, in_planes, out_planes, kernel_size=3, stride=1, groups=1):\n",
    "        padding = (kernel_size - 1) // 2\n",
    "        norm_layer = nn.BatchNorm2d\n",
    "        super(ConvM, self).__init__(\n",
    "            nn.Conv2d(in_planes, out_planes, kernel_size, stride, padding, groups=groups, bias=False),\n",
    "            norm_layer(out_planes),\n",
    "            nn.ReLU(inplace=True),\n",
    "        )\n",
    "class ConvNet(nn.Module):\n",
    "    def __init__(self, n_class=1):\n",
    "        super(ConvNet, self).__init__()\n",
    "        \n",
    "        self.conv = nn.Sequential(\n",
    "            ConvM(3, 32, 5, 2),\n",
    "            ConvM(32, 64, 5, 2),\n",
    "            ConvM(64, 128, 3, 1),\n",
    "            ConvM(128, 64, 3, 1),\n",
    "            ConvM(64, 32, 3, 1),\n",
    "           \n",
    "        )        \n",
    "        self.fc = nn.Linear(32, n_class)\n",
    "    def forward(self, x):\n",
    "        x = self.conv(x)\n",
    "        x = nn.functional.adaptive_avg_pool2d(x, 1).reshape(x.shape[0], -1)\n",
    "        output = self.fc(x)\n",
    "        return output\n",
    "# initialize the ConvNet\n",
    "model_cnn = ConvNet(n_class=3).to(device)"
   ]
  },
  {
   "cell_type": "code",
   "execution_count": 15,
   "id": "c1d9d254",
   "metadata": {},
   "outputs": [],
   "source": [
    "# 步驟3. loss function宣告\n",
    "loss = torch.nn.CrossEntropyLoss().to(device)"
   ]
  },
  {
   "cell_type": "code",
   "execution_count": 16,
   "id": "826c1c66",
   "metadata": {},
   "outputs": [],
   "source": [
    "# 步驟4. optimator宣告\n",
    "optimizer_cnn = optim.Adam(model_cnn.parameters(), lr=0.01)"
   ]
  },
  {
   "cell_type": "code",
   "execution_count": 17,
   "id": "dcb3f72c",
   "metadata": {},
   "outputs": [
    {
     "name": "stdout",
     "output_type": "stream",
     "text": [
      "CNN[epoch: 1/100], Average loss (Train):0.0414948426\n",
      "CNN[epoch: 11/100], Average loss (Train):0.0013213875\n",
      "CNN[epoch: 21/100], Average loss (Train):0.0001566018\n",
      "CNN[epoch: 31/100], Average loss (Train):0.0002181737\n",
      "CNN[epoch: 41/100], Average loss (Train):0.0001854731\n",
      "CNN[epoch: 51/100], Average loss (Train):0.0000566520\n",
      "CNN[epoch: 61/100], Average loss (Train):0.0000255274\n",
      "CNN[epoch: 71/100], Average loss (Train):0.0000311149\n",
      "CNN[epoch: 81/100], Average loss (Train):0.0000114858\n",
      "CNN[epoch: 91/100], Average loss (Train):0.0000098092\n",
      "CNN[epoch: 100/100], Average loss (Train):0.0000071145\n",
      "training done.\n"
     ]
    }
   ],
   "source": [
    "# 步驟5. CNN模型開始訓練\n",
    "total_epoch=100\n",
    "plt_loss_train_cnn=[]\n",
    "for epoch in range(total_epoch):\n",
    "    # train\n",
    "    model_cnn.train()     #启用 BatchNormalization 和 Dropout\n",
    "\n",
    "    train_loss_cnn = 0\n",
    "    for iteration, (data, target) in enumerate(dataloader_train):\n",
    "        data, target = data.to(device), target.to(device)\n",
    "        \n",
    "        #print(iteration)\n",
    "        #print(data)\n",
    "        #print(target)\n",
    "\n",
    "        optimizer_cnn.zero_grad()\n",
    "        output_cnn = model_cnn(data)\n",
    "        loss_cnn = loss(output_cnn,target) \n",
    "        train_loss_cnn += loss_cnn\n",
    "        loss_cnn.backward()\n",
    "        optimizer_cnn.step()     \n",
    "    \n",
    "    train_loss_cnn /= len(dataloader_train.dataset)\n",
    "    \n",
    "    plt_loss_train_cnn.append(train_loss_cnn)\n",
    "   \n",
    "   \n",
    "    if epoch % 10 ==0:\n",
    "        print('CNN[epoch: {}/{}], Average loss (Train):{:.10f}'.format(\n",
    "            epoch+1, total_epoch, train_loss_cnn))\n",
    "print('CNN[epoch: {}/{}], Average loss (Train):{:.10f}'.format(\n",
    "            epoch+1, total_epoch, train_loss_cnn))\n",
    "print('training done.')\n",
    "\n",
    "torch.save(model_cnn,\"20211001_finger_vien_cnn.pth\")   #pytorch的模型保存,一般保存为pth后缀"
   ]
  },
  {
   "cell_type": "code",
   "execution_count": 18,
   "id": "a5db4c8c",
   "metadata": {},
   "outputs": [
    {
     "data": {
      "image/png": "[encoded data removed]",
      "text/plain": [
       "<Figure size 432x288 with 1 Axes>"
      ]
     },
     "metadata": {
      "needs_background": "light"
     },
     "output_type": "display_data"
    }
   ],
   "source": [
    "# 步驟6. 畫出訓練出來的loss曲線\n",
    "plt.plot(plt_loss_train_cnn)\n",
    "plt.title('training loss')\n",
    "plt.show()\n"
   ]
  },
  {
   "cell_type": "code",
   "execution_count": 19,
   "id": "f5f58f31",
   "metadata": {},
   "outputs": [
    {
     "data": {
      "image/png": "[encoded data removed]",
      "text/plain": [
       "<Figure size 432x288 with 1 Axes>"
      ]
     },
     "metadata": {
      "needs_background": "light"
     },
     "output_type": "display_data"
    },
    {
     "name": "stdout",
     "output_type": "stream",
     "text": [
      "output_cnn_size: torch.Size([1, 3])\n",
      "output_cnn: tensor([[1.0588e-05, 5.8723e-06, 9.9998e-01]], device='cuda:0')\n",
      "output_cnn[0]_size: torch.Size([3])\n",
      "output_cnn[0]: tensor([1.0588e-05, 5.8723e-06, 9.9998e-01], device='cuda:0')\n",
      "CNN: probability for Andrew: 0.0011%\n",
      "CNN: probability for Gary: 0.0006%\n",
      "CNN: probability for Sherry: 99.9984%\n"
     ]
    },
    {
     "data": {
      "image/png": "[encoded data removed]",
      "text/plain": [
       "<Figure size 432x288 with 1 Axes>"
      ]
     },
     "metadata": {
      "needs_background": "light"
     },
     "output_type": "display_data"
    },
    {
     "name": "stdout",
     "output_type": "stream",
     "text": [
      "output_cnn_size: torch.Size([1, 3])\n",
      "output_cnn: tensor([[2.9403e-05, 9.9994e-01, 3.1979e-05]], device='cuda:0')\n",
      "output_cnn[0]_size: torch.Size([3])\n",
      "output_cnn[0]: tensor([2.9403e-05, 9.9994e-01, 3.1979e-05], device='cuda:0')\n",
      "CNN: probability for Andrew: 0.0029%\n",
      "CNN: probability for Gary: 99.9939%\n",
      "CNN: probability for Sherry: 0.0032%\n"
     ]
    },
    {
     "data": {
      "image/png": "[encoded data removed]",
      "text/plain": [
       "<Figure size 432x288 with 1 Axes>"
      ]
     },
     "metadata": {
      "needs_background": "light"
     },
     "output_type": "display_data"
    },
    {
     "name": "stdout",
     "output_type": "stream",
     "text": [
      "output_cnn_size: torch.Size([1, 3])\n",
      "output_cnn: tensor([[9.9970e-01, 1.5937e-04, 1.3867e-04]], device='cuda:0')\n",
      "output_cnn[0]_size: torch.Size([3])\n",
      "output_cnn[0]: tensor([9.9970e-01, 1.5937e-04, 1.3867e-04], device='cuda:0')\n",
      "CNN: probability for Andrew: 99.9702%\n",
      "CNN: probability for Gary: 0.0159%\n",
      "CNN: probability for Sherry: 0.0139%\n"
     ]
    }
   ],
   "source": [
    "# 步驟7. 辨識指靜脈圖片\n",
    "model_cnn = torch.load(\"20211001_finger_vien_cnn.pth\") #pytorch的模型的加载\n",
    "\n",
    "model_cnn.eval()  #不启用 BatchNormalization 和 Dropout，\n",
    "                  #保证BN和dropout不发生变化，pytorch框架会自动把BN和Dropout固定住，\n",
    "                  #不会取平均，而是用训练好的值，不然的话，一旦test的batch_size过小，很容易就会被BN层影响结果\n",
    "\n",
    "image_names = ['./dataset/Example_finger/Test/F0310.bmp',\n",
    "              './dataset/Example_finger/Test/F0210.bmp',\n",
    "              './dataset/Example_finger/Test/F0110.bmp']\n",
    "for image_name in image_names:\n",
    "    image = Image.open(image_name, mode='r') #依序打開image_names路徑裡的圖片\n",
    "    \n",
    "    #print(image.mode)\n",
    "   \n",
    "    image = image.convert('RGB')\n",
    "    \n",
    "    #print(image.mode)\n",
    "    \n",
    "    plt.imshow(image)#函数负责对图像进行处理，并显示其格式\n",
    "    plt.show()#则是将plt.imshow()处理后的函数图像显示出来。   \n",
    "    \n",
    "    image = mytransform(image)\n",
    "    \n",
    "    #print(\"image_size:\",image.shape)\n",
    "    \n",
    "    with torch.no_grad():   #在该模块下，所有计算得出的tensor的requires_grad都自动设置为False\n",
    "                            #当requires_grad设置为False时,反向传播时就不会自动求导了，因此大大节约了显存或者说内存\n",
    "        \n",
    "        output_cnn = torch.unsqueeze(image,dim=0)  #torch.unsqueeze()这个函数主要是对数据维度进行扩充。需要通过dim指定位置\n",
    "                                                   #，给指定位置加上维数为1的维度\n",
    "        \n",
    "        #print(\"output_cnn_size:\", output_cnn.shape)\n",
    "        #print(\"output_cnn:\", output_cnn)\n",
    "        \n",
    "        output_cnn = model_cnn(output_cnn.to(device))   #進行卷積特徵擷取及匹配    \n",
    "        \n",
    "        #print(\"output_cnn_size:\", output_cnn.shape)\n",
    "        #print(\"output_cnn:\", output_cnn)\n",
    "  \n",
    "    output_cnn= F.softmax(output_cnn,dim=1)            #算出此圖屬於那類的百分比機率\n",
    "    \n",
    "    print(\"output_cnn_size:\", output_cnn.shape)\n",
    "    print(\"output_cnn:\", output_cnn)\n",
    "    \n",
    "    print(\"output_cnn[0]_size:\", output_cnn[0].shape)\n",
    "    print(\"output_cnn[0]:\", output_cnn[0])\n",
    "    \n",
    "    list_class = ['Andrew','Gary','Sherry'] \n",
    "    \n",
    "    for i, tmp_out in enumerate(output_cnn[0]):\n",
    "        print('CNN: probability for {}: {:.4f}%'.format(list_class[i], tmp_out*100))"
   ]
  },
  {
   "cell_type": "code",
   "execution_count": null,
   "id": "596fabbf",
   "metadata": {},
   "outputs": [],
   "source": []
  }
 ],
 "metadata": {
  "kernelspec": {
   "display_name": "Python 3",
   "language": "python",
   "name": "python3"
  },
  "language_info": {
   "codemirror_mode": {
    "name": "ipython",
    "version": 3
   },
   "file_extension": ".py",
   "mimetype": "text/x-python",
   "name": "python",
   "nbconvert_exporter": "python",
   "pygments_lexer": "ipython3",
   "version": "3.8.8"
  }
 },
 "nbformat": 4,
 "nbformat_minor": 5
}
